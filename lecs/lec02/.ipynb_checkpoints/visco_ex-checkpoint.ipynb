{
 "cells": [
  {
   "cell_type": "code",
   "execution_count": 45,
   "metadata": {},
   "outputs": [],
   "source": [
    "import sys, os\n",
    "import numpy as np\n",
    "from IPython.display import display, Math, Markdown"
   ]
  },
  {
   "cell_type": "markdown",
   "metadata": {},
   "source": [
    "<!-- P1.44 (White) -->\n",
    "# Ejemplo 1\n",
    "El espacio entre dos cilindros concentricos es ocupado por aceite SAE 50W a 20$^oC$. El cilindro interior tiene radio $r_i =5\\ cm$ y el cilindro exterior $r_o=6\\ cm$. Ambos cilindros tienen una longitud $L=120\\ cm$. Mientras que el cilindro exterior esta fijo al suelo, el cilindro interior rota a una velocidad $V=900\\ rpm$. Usando la aproximacion del perfil lineal de velocidades, estimar la potencia en watts requerida para mantener la rotacion. Despreciar los cambios de temperatura del aceite.\n",
    "## Solucion\n",
    "De acuerdo con el enunciado del problema, tenemos:"
   ]
  },
  {
   "cell_type": "code",
   "execution_count": 46,
   "metadata": {},
   "outputs": [
    {
     "data": {
      "text/latex": [
       "$$r_i = 0.05\\ m \\\\ r_o = 0.06\\ m \\\\ T = 20.0\\ ^oC \\\\ L = 1.2\\ m \\\\ \\omega = 900.0\\ rpm$$"
      ],
      "text/plain": [
       "<IPython.core.display.Math object>"
      ]
     },
     "metadata": {},
     "output_type": "display_data"
    }
   ],
   "source": [
    "ri=0.05; ro=0.06; T=20.; L=1.2; ome=900 \n",
    "display(Math(r'r_i = {}\\ m \\\\ r_o = {}\\ m \\\\ T = {}\\ ^oC \\\\ L = {}\\ m \\\\ \\omega = {}\\ rpm'.format(round(ri,3),round(ro,3),round(T,3),round(L,3),round(ome,3))))"
   ]
  },
  {
   "cell_type": "code",
   "execution_count": 47,
   "metadata": {},
   "outputs": [
    {
     "data": {
      "text/markdown": [
       "De la tabla A.3, la viscosidad para aceite SAE 50W es: $\\mu = 0.860\\ kg/m.s$"
      ],
      "text/plain": [
       "<IPython.core.display.Markdown object>"
      ]
     },
     "execution_count": 47,
     "metadata": {},
     "output_type": "execute_result"
    }
   ],
   "source": [
    "mu=0.86\n",
    "Markdown(\"De la tabla A.3, la viscosidad para aceite SAE 50W es: $\\mu = %0.3f\\ kg/m.s$\"%(mu))"
   ]
  },
  {
   "cell_type": "code",
   "execution_count": 48,
   "metadata": {},
   "outputs": [
    {
     "data": {
      "text/markdown": [
       "El espacio entre cilindros es: $h = 0.010\\ m$"
      ],
      "text/plain": [
       "<IPython.core.display.Markdown object>"
      ]
     },
     "execution_count": 48,
     "metadata": {},
     "output_type": "execute_result"
    }
   ],
   "source": [
    "h=ro-ri\n",
    "Markdown(\"El espacio entre cilindros es: $h = %0.3f\\ m$\"%(h))"
   ]
  },
  {
   "cell_type": "markdown",
   "metadata": {},
   "source": [
    "Si $1\\ rpm = \\frac{2 \\pi r}{60}\\ m/s$"
   ]
  },
  {
   "cell_type": "code",
   "execution_count": 49,
   "metadata": {},
   "outputs": [
    {
     "data": {
      "text/markdown": [
       "Reemplazando $r = r_i$: $1\\ rpm = 0.005\\ m/s$"
      ],
      "text/plain": [
       "<IPython.core.display.Markdown object>"
      ]
     },
     "execution_count": 49,
     "metadata": {},
     "output_type": "execute_result"
    }
   ],
   "source": [
    "arpm=2*np.pi*ri/60\n",
    "Markdown(\"Reemplazando $r = r_i$: $1\\ rpm = %0.3f\\ m/s$\"%(arpm))"
   ]
  },
  {
   "cell_type": "code",
   "execution_count": 50,
   "metadata": {},
   "outputs": [
    {
     "data": {
      "text/markdown": [
       "Por tanto la velocidad lineal: $V = 4.712\\ m/s$"
      ],
      "text/plain": [
       "<IPython.core.display.Markdown object>"
      ]
     },
     "execution_count": 50,
     "metadata": {},
     "output_type": "execute_result"
    }
   ],
   "source": [
    "V = arpm*ome\n",
    "Markdown(\"Por tanto la velocidad lineal: $V = %0.3f\\ m/s$\"%(V))"
   ]
  },
  {
   "cell_type": "markdown",
   "metadata": {},
   "source": [
    "El area de un cilindro es $A = 2\\pi r L$."
   ]
  },
  {
   "cell_type": "code",
   "execution_count": 51,
   "metadata": {},
   "outputs": [
    {
     "data": {
      "text/markdown": [
       "El area del cilindro interno es: $A = 0.377\\ m^2$"
      ],
      "text/plain": [
       "<IPython.core.display.Markdown object>"
      ]
     },
     "execution_count": 51,
     "metadata": {},
     "output_type": "execute_result"
    }
   ],
   "source": [
    "A = 2*np.pi*ri*L\n",
    "Markdown(\"El area del cilindro interno es: $A = %0.3f\\ m^2$\"%(A))"
   ]
  },
  {
   "cell_type": "markdown",
   "metadata": {},
   "source": [
    "De la aproximacion del perfil lineal de velocidades lineal:\n",
    "$$\n",
    "u(y)=V\\frac{y}{h}\n",
    "$$\n",
    "Obteniendo $\\frac{du}{dy}$ y teniendo en cuenta que $\\frac{du}{dy}=\\frac{\\tau}{\\mu}$, tenemos que:\n",
    "$$\n",
    "\\frac{\\tau}{\\mu} = \\frac{V}{h}\n",
    "$$\n",
    "\n",
    "De la definicion de potencia $P = W/t = F.V$ donde $W$ es trabajo y $F$ es la fuerza. Por otro lado, el esfuerzo cortante $\\tau = \\frac{F}{A}$, de donde $F = \\tau A$. Reemplazando en la ecuacion de potencia:\n",
    "$$\n",
    "P=\\frac{V^2 \\mu A}{h}\n",
    "$$"
   ]
  },
  {
   "cell_type": "code",
   "execution_count": 52,
   "metadata": {},
   "outputs": [
    {
     "data": {
      "text/markdown": [
       "**La potencia necesaria para mantener la rotacion del cilindro interno es: $P = 719.97\\ watts$**"
      ],
      "text/plain": [
       "<IPython.core.display.Markdown object>"
      ]
     },
     "execution_count": 52,
     "metadata": {},
     "output_type": "execute_result"
    }
   ],
   "source": [
    "P=(V**2)*mu*A/h \n",
    "Markdown(\"**La potencia necesaria para mantener la rotacion del cilindro interno es: $P = %0.2f\\ watts$**\"%(P))"
   ]
  },
  {
   "cell_type": "markdown",
   "metadata": {},
   "source": [
    "<!-- P1.48 (White) -->\n",
    "# Ejemplo 2\n",
    "La correa de la figura se mueve a una velocidad permanente $V$. Dicha correa roza la superficie de un tanque que contiene aceite cuya viscosidad es $\\mu$. Asumiendo un perfil lineal de velocidades en el aceite, optener una formula para calcular la potencia $P$. Que potencia en watts seria requerida para mover la correa a 2.5 $m/s$ sobre aceite SAE 30W a 20$^oC$, con $L=2\\ m$, $b=60\\ cm$ y $h=3\\ cm$?\n",
    "\n",
    "![Cat](p1dot52.png)\n",
    "## Solucion\n",
    "De acuerdo con el enunciado del problema, tenemos:"
   ]
  },
  {
   "cell_type": "code",
   "execution_count": 53,
   "metadata": {},
   "outputs": [
    {
     "data": {
      "text/latex": [
       "$$V = 2.5\\ m/s \\\\ T = 20.0\\ ^oC \\\\ L = 2.0\\ m \\\\ b = 0.6\\ m \\\\ h = 0.03\\ m$$"
      ],
      "text/plain": [
       "<IPython.core.display.Math object>"
      ]
     },
     "metadata": {},
     "output_type": "display_data"
    }
   ],
   "source": [
    "V=2.5; T=20.; L=2; b=0.6; h=0.03\n",
    "display(Math(r'V = {}\\ m/s \\\\ T = {}\\ ^oC \\\\ L = {}\\ m \\\\ b = {}\\ m \\\\ h = {}\\ m'.format(round(V,3),round(T,3),round(L,3),round(b,3),round(h,3))))"
   ]
  },
  {
   "cell_type": "markdown",
   "metadata": {},
   "source": [
    "De la aproximacion del perfil lineal de velocidades lineal:\n",
    "$$\n",
    "u(y)=V\\frac{y}{h}\n",
    "$$\n",
    "Obteniendo $\\frac{du}{dy}$ y teniendo en cuenta que $\\frac{du}{dy}=\\frac{\\tau}{\\mu}$, tenemos que:\n",
    "$$\n",
    "\\frac{\\tau}{\\mu} = \\frac{V}{h}\n",
    "$$\n",
    "\n",
    "De la definicion de potencia $P = W/t = F.V$ donde $W$ es trabajo y $F$ es la fuerza. Por otro lado, el esfuerzo cortante $\\tau = \\frac{F}{A}$, de donde $F = \\tau A$. Reemplazando en la ecuacion de potencia para $A=L.b$:\n",
    "$$\n",
    "P=\\frac{V^2 \\mu Lb}{h}\n",
    "$$"
   ]
  },
  {
   "cell_type": "code",
   "execution_count": 54,
   "metadata": {},
   "outputs": [
    {
     "data": {
      "text/markdown": [
       "De la tabla A.3, la viscosidad para aceite SAE 30W es: $\\mu = 0.290\\ kg/m.s$"
      ],
      "text/plain": [
       "<IPython.core.display.Markdown object>"
      ]
     },
     "execution_count": 54,
     "metadata": {},
     "output_type": "execute_result"
    }
   ],
   "source": [
    "mu=0.29\n",
    "Markdown(\"De la tabla A.3, la viscosidad para aceite SAE 30W es: $\\mu = %0.3f\\ kg/m.s$\"%(mu))"
   ]
  },
  {
   "cell_type": "markdown",
   "metadata": {},
   "source": [
    "Reemplazando en la equacion para $P$"
   ]
  },
  {
   "cell_type": "code",
   "execution_count": 55,
   "metadata": {},
   "outputs": [
    {
     "data": {
      "text/markdown": [
       "**La potencia necesaria para mantener la correa en movimiento: $P = 72.50\\ watts$**"
      ],
      "text/plain": [
       "<IPython.core.display.Markdown object>"
      ]
     },
     "execution_count": 55,
     "metadata": {},
     "output_type": "execute_result"
    }
   ],
   "source": [
    "P=(V**2)*0.29*L*b/h\n",
    "Markdown(\"**La potencia necesaria para mantener la correa en movimiento: $P = %0.2f\\ watts$**\"%(P))"
   ]
  },
  {
   "cell_type": "markdown",
   "metadata": {},
   "source": [
    "<!-- P1.56 (White) -->\n",
    "# Ejemplo 3\n",
    "En la figura se muestra  un viscometro de cono. El angulo $\\theta$ del cono es muy pequeno por lo que el $\\sin \\theta \\approx \\theta$ y el espacio entre el cono y la superficie plana esta lleno de un liquido. Si el torque $M$ necesario para rotar el viscometro a una velocidad $\\Omega$ y asumiendo un perfil de velocidad lineal, derivar un expresion para la viscosidad $\\mu$ del liquido como una funcion $f(M,R,\\Omega,\\theta)$.\n",
    "\n",
    "![Cat](p1dot56.png)"
   ]
  },
  {
   "cell_type": "markdown",
   "metadata": {},
   "source": [
    "## Solucion\n",
    "De la aproximacion del perfil lineal de velocidades lineal:\n",
    "$$\n",
    "u(y)=V\\frac{y}{h}\n",
    "$$\n",
    "Obteniendo $\\frac{du}{dy}$ y teniendo en cuenta que $\\frac{du}{dy}=\\frac{\\tau}{\\mu}$, tenemos que:\n",
    "$$\n",
    "\\frac{\\tau}{\\mu} = \\frac{V}{h}\n",
    "$$\n",
    "\n",
    "La altura del perfil de velocidad varia linealmente con la distancia del centro al borde $r$ (radio) y es $h=r \\tan \\theta$. \n",
    "\n",
    "Por otro lado, la velocidad angular $\\Omega=\\frac{\\alpha}{s}$ donde $\\alpha$ es el un angulo recorrido y $s$ son segundos. Si el angulo recorrido $\\alpha$ genera un arco de longitud $l$, la velocidad lineal es $V=\\frac{l}{s}$. De trigonometria sabemos que el arco $l=r\\alpha$, reemplazando en $V$ tenemos que la velocidad lineal se relaciona con la velocidad angular como $V=r\\omega$.\n",
    "\n",
    "Reemplazando en la expresion para el perfil lineal de velocidades, tenemos que el esfuerzo cortante es igual:\n",
    "$$\n",
    "\\tau = \\frac{\\Omega \\mu r}{r \\tan \\theta} = \\frac{\\Omega \\mu}{\\tan \\theta}\n",
    "$$\n",
    "\n",
    "El momento de una fuerza o torque se define como el producto vectorial del vector de posición $\\mathbf{r}$ del punto de aplicación de la fuerza por el vector fuerza $\\mathbf{F}$:\n",
    "$$\n",
    "\\mathbf{M} = \\mathbf{F}\\times \\mathbf{r}\n",
    "$$\n",
    "\n",
    "Por lo tanto, la magnitud de $M$ es:\n",
    "$$\n",
    "M=Fr\\sin \\alpha\n",
    "$$\n",
    "\n",
    "Donde $\\alpha$ es el angulo formado por el vector fuerza y el vector pocision. Si $\\alpha= 90^o $ $\\sin \\alpha = 1$ por lo que $M=Fr$.\n",
    "\n",
    "Como el torque es aplicado sobre un punto o area determinado, el diferencial del torque se define como:\n",
    "$$\n",
    "dM=rdF\n",
    "$$\n",
    "reemplazando $dF = \\tau dA$\n",
    "$$\n",
    "dM = r \\tau dA\n",
    "$$\n",
    "\n",
    "donde $dA$ es el area del sector circular de ancho $dr$ sobre el cono:\n",
    "$$\n",
    "dA = \\frac{2\\pi r}{\\cos \\theta} dr\n",
    "$$\n",
    "\n",
    "Del perfil del velocidad lineal, sabemos que $\\tau$ en cualquier parte de la superficie del cono es $\\tau = \\frac{\\Omega \\mu}{\\tan \\theta}$, reemplazando\n",
    "$$\n",
    "dM= r \\frac{\\Omega \\mu}{\\tan \\theta} \\frac{2\\pi r}{\\cos \\theta} dr\n",
    "$$\n",
    "\n",
    "Integrando para calcular el torque total sobre el viscometro (de 0 a $R$):\n",
    "$$\n",
    "\\int_{0}^{M} dM = \\int_{0}^{R} \\frac{\\Omega \\mu}{\\tan \\theta} \\frac{2\\pi r}{\\cos \\theta}\n",
    "$$\n",
    "\n",
    "Simplificando:\n",
    "\n",
    "$$\n",
    "\\int_{0}^{M} dM = \\frac{\\Omega \\mu 2 \\pi}{\\sin \\theta} \\int_{0}^{R} r^2 \\,dr = \\frac{\\Omega \\mu 2 \\pi R^3}{3 \\sin \\theta}\n",
    "$$\n",
    "\n",
    "Despejando para $\\mu$ y si $\\sin \\theta \\approx \\theta$\n",
    "$$\n",
    "\\mu = \\frac{3 M\\theta}{\\Omega \\mu 2 \\pi R^3}\n",
    "$$\n",
    "\n",
    "\n"
   ]
  },
  {
   "cell_type": "markdown",
   "metadata": {},
   "source": [
    "<!-- P1.59 (White) -->\n",
    "# Ejemplo 4\n",
    "Un cilindro solido de acero de diametro $D$, longitud $L$ y densidad $\\rho_s$ se desliza, gracias a la gravedad, dentro de un tubo de diametro $D_0$. El espacio $D_0 - D \\lt \\lt D$, es ocupado por un fluido de densidad $\\rho$ y viscosidad $\\mu$. Despreciando el aire adentro del tubo, derivar una formula para la velocidad de caida del cilindro. Aplicar la formula si: $D=2\\ cm$, $D_0 = 2.04\\ cm$, $L=15\\ cm$. El fluido es aceite SAE 30W a 20$^oC$.\n",
    "\n",
    "## Solucion"
   ]
  },
  {
   "cell_type": "markdown",
   "metadata": {},
   "source": [
    "De la aproximacion del perfil lineal de velocidades:\n",
    "$$\n",
    "u(y)=V\\frac{y}{h}\n",
    "$$\n",
    "Obteniendo $\\frac{du}{dy}$ y teniendo en cuenta que $\\frac{du}{dy}=\\frac{\\tau}{\\mu}$, tenemos que:\n",
    "$$\n",
    "\\frac{\\tau}{\\mu} = \\frac{V}{h}\n",
    "$$\n",
    "despejando:\n",
    "$$\n",
    "V=\\frac{h\\tau}{\\mu}\n",
    "$$\n",
    "\n",
    "De la definicion de esfuerzo cortante $\\tau = \\frac{F}{A}$, donde $A$ es el area sobre la cual se aplica el esfuerzo, la cual es $A=\\pi D L$ para el cilindro. Por otro, segun la segunda ley de Newton, un cuerpo en caida libre, experimenta una fuerza $F=mg$ donde $g$ es la aceleracion de la gravedad. Reemplazando $\\tau$ en la ecuacion anterior:\n",
    "$$\n",
    "V=\\frac{hmg}{\\pi D L\\mu}\n",
    "$$\n",
    "\n",
    "De la definicion de densidad $\\rho=m/\\upsilon$ donde el volumen del cilindro es $\\upsilon=\\frac{\\pi D^2 L}{4}$. Teniendo en cuenta que $\\rho_s$ del cilindro esta dada, despejando para $m$ se tiene $m=\\frac{\\rho_s \\pi D^2 L}{4}$. Remplazando, tenemos la ecuacion para calcular $V$:\n",
    "$$\n",
    "V=\\frac{h \\rho_s D g}{4\\mu}\n",
    "$$\n",
    "Como $h=(D_0 - D)/2$, la ecuacion quedaria:\n",
    "\n",
    "$$\n",
    "V=\\frac{(D_0 - D) \\rho_s D g}{8\\mu}\n",
    "$$"
   ]
  },
  {
   "cell_type": "markdown",
   "metadata": {},
   "source": [
    "De acuerdo con el enunciado del problema, tenemos:"
   ]
  },
  {
   "cell_type": "code",
   "execution_count": 56,
   "metadata": {},
   "outputs": [
    {
     "data": {
      "text/latex": [
       "$$D = 0.02\\ m \\\\ D_0 = 0.0204\\ m \\\\ T = 20.0\\ ^oC \\\\ L = 0.15\\ m \\\\ g = 9.81\\ m/s^2$$"
      ],
      "text/plain": [
       "<IPython.core.display.Math object>"
      ]
     },
     "metadata": {},
     "output_type": "display_data"
    }
   ],
   "source": [
    "D=0.02; D0=0.0204; T=20.; L=0.15; g=9.81 \n",
    "display(Math(r'D = {}\\ m \\\\ D_0 = {}\\ m \\\\ T = {}\\ ^oC \\\\ L = {}\\ m \\\\ g = {}\\ m/s^2'.format(round(D,3),round(D0,5),round(T,3),round(L,3),round(g,3))))"
   ]
  },
  {
   "cell_type": "code",
   "execution_count": 57,
   "metadata": {},
   "outputs": [
    {
     "data": {
      "text/markdown": [
       "De la tabla A.3, la viscosidad para aceite SAE 30W es: $\\mu = 0.290\\ kg/m.s$"
      ],
      "text/plain": [
       "<IPython.core.display.Markdown object>"
      ]
     },
     "execution_count": 57,
     "metadata": {},
     "output_type": "execute_result"
    }
   ],
   "source": [
    "mu=0.29\n",
    "Markdown(\"De la tabla A.3, la viscosidad para aceite SAE 30W es: $\\mu = %0.3f\\ kg/m.s$\"%(mu))"
   ]
  },
  {
   "cell_type": "code",
   "execution_count": 58,
   "metadata": {},
   "outputs": [
    {
     "data": {
      "text/markdown": [
       "La densidad media del acero: $\r",
       "ho_s = 7850.000\\ kg/m^3 $"
      ],
      "text/plain": [
       "<IPython.core.display.Markdown object>"
      ]
     },
     "execution_count": 58,
     "metadata": {},
     "output_type": "execute_result"
    }
   ],
   "source": [
    "rs=7850.\n",
    "Markdown(\"La densidad media del acero: $\\rho_s = %0.3f\\ kg/m^3 $\"%(rs))"
   ]
  },
  {
   "cell_type": "markdown",
   "metadata": {},
   "source": [
    "Reemplazando en la ecuacion para $V$"
   ]
  },
  {
   "cell_type": "code",
   "execution_count": 59,
   "metadata": {},
   "outputs": [
    {
     "data": {
      "text/markdown": [
       "**La velocidad de caida del cilindro: $V = 0.27\\ m/s$**"
      ],
      "text/plain": [
       "<IPython.core.display.Markdown object>"
      ]
     },
     "execution_count": 59,
     "metadata": {},
     "output_type": "execute_result"
    }
   ],
   "source": [
    "V=(D0-D)*rs*D*g/(8*mu)\n",
    "Markdown(\"**La velocidad de caida del cilindro: $V = %0.2f\\ m/s$**\"%(V))"
   ]
  }
 ],
 "metadata": {
  "kernelspec": {
   "display_name": "Python 2",
   "language": "python",
   "name": "python2"
  },
  "language_info": {
   "codemirror_mode": {
    "name": "ipython",
    "version": 2
   },
   "file_extension": ".py",
   "mimetype": "text/x-python",
   "name": "python",
   "nbconvert_exporter": "python",
   "pygments_lexer": "ipython2",
   "version": "2.7.18"
  }
 },
 "nbformat": 4,
 "nbformat_minor": 2
}
