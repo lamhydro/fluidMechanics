{
 "cells": [
  {
   "cell_type": "code",
   "execution_count": 86,
   "metadata": {},
   "outputs": [],
   "source": [
    "import sys, os\n",
    "import numpy as np\n",
    "from IPython.display import display, Math, Markdown"
   ]
  },
  {
   "cell_type": "markdown",
   "metadata": {},
   "source": [
    "<!-- Ex 2-14 (Cengel) -->\n",
    "# Ejemplo 1\n",
    "Una bomba esf\\'erico con diametro de 9 m es inflado con helio a 20$^oC$ y 200 kPa. Determinar el numero de moles y la masa de helio en la bomba\n",
    "## Solucion\n",
    "De acuerdo con el enunciado del problema, tenemos:"
   ]
  },
  {
   "cell_type": "code",
   "execution_count": 64,
   "metadata": {},
   "outputs": [
    {
     "data": {
      "text/latex": [
       "$$D = 9.0\\ m \\\\ T = 20.0\\ ^oC \\\\ P = 200.0\\ kPa$$"
      ],
      "text/plain": [
       "<IPython.core.display.Math object>"
      ]
     },
     "metadata": {},
     "output_type": "display_data"
    }
   ],
   "source": [
    "D=9.; T=20.; P=200.\n",
    "display(Math(r'D = {}\\ m \\\\ T = {}\\ ^oC \\\\ P = {}\\ kPa'.format(round(D,2),round(T,2),round(P,2))))"
   ]
  },
  {
   "cell_type": "markdown",
   "metadata": {},
   "source": [
    "El volumen de una esfera es $V=\\frac{4}{3}\\pi r^3$, reemplazando"
   ]
  },
  {
   "cell_type": "code",
   "execution_count": 65,
   "metadata": {},
   "outputs": [
    {
     "data": {
      "text/latex": [
       "$$V = 381.7\\ m^3$$"
      ],
      "text/plain": [
       "<IPython.core.display.Math object>"
      ]
     },
     "metadata": {},
     "output_type": "display_data"
    }
   ],
   "source": [
    "# Volumen de una esfera\n",
    "V=(4./3.)*np.pi*(D/2.)**3\n",
    "display(Math(r'V = {}\\ m^3'.format(round(V,2))))"
   ]
  },
  {
   "cell_type": "markdown",
   "metadata": {},
   "source": [
    "La presion, $P$ en $Pa=\\frac{N}{m^2}=\\frac{kg.m}{s^2}.\\frac{1}{m^2}=\\frac{kg.m}{s^2}$"
   ]
  },
  {
   "cell_type": "code",
   "execution_count": 66,
   "metadata": {},
   "outputs": [
    {
     "data": {
      "text/latex": [
       "$$P = 200000.0\\ kg.m/s^2$$"
      ],
      "text/plain": [
       "<IPython.core.display.Math object>"
      ]
     },
     "metadata": {},
     "output_type": "display_data"
    }
   ],
   "source": [
    "P = P * 1000.\n",
    "display(Math(r'P = {}\\ kg.m/s^2'.format(round(P,2))))"
   ]
  },
  {
   "cell_type": "markdown",
   "metadata": {},
   "source": [
    "La temperatura $T(K) = T(^oC)+293.15$ es:"
   ]
  },
  {
   "cell_type": "code",
   "execution_count": 67,
   "metadata": {},
   "outputs": [
    {
     "data": {
      "text/latex": [
       "$$T = 293.15\\ K$$"
      ],
      "text/plain": [
       "<IPython.core.display.Math object>"
      ]
     },
     "metadata": {},
     "output_type": "display_data"
    }
   ],
   "source": [
    "T=T+273.15\n",
    "display(Math(r'T = {}\\ K'.format(round(T,2))))"
   ]
  },
  {
   "cell_type": "markdown",
   "metadata": {},
   "source": [
    "De la tabla A-1, la constante $R$ para el helio es:"
   ]
  },
  {
   "cell_type": "code",
   "execution_count": 68,
   "metadata": {},
   "outputs": [
    {
     "data": {
      "text/latex": [
       "$$R = 2.077\\ kJ/kg.K$$"
      ],
      "text/plain": [
       "<IPython.core.display.Math object>"
      ]
     },
     "metadata": {},
     "output_type": "display_data"
    }
   ],
   "source": [
    "R=2.077\n",
    "display(Math(r'R = {}\\ kJ/kg.K'.format(round(R,4))))"
   ]
  },
  {
   "cell_type": "markdown",
   "metadata": {},
   "source": [
    "Las unidades de R pueden ser expresadas $\\frac{kJ}{kg.K}.\\frac{1000\\ J}{1kJ}=\\frac{1000\\ N.m}{kg.K}=\\frac{1000\\ kg.m^2}{s^2 .kg.K}=\\frac{1000\\ m^2}{s^2 .K}$"
   ]
  },
  {
   "cell_type": "code",
   "execution_count": 69,
   "metadata": {},
   "outputs": [
    {
     "data": {
      "text/latex": [
       "$$R = 2077.0\\ m^2/s^2 .K$$"
      ],
      "text/plain": [
       "<IPython.core.display.Math object>"
      ]
     },
     "metadata": {},
     "output_type": "display_data"
    }
   ],
   "source": [
    "R = R*1000.\n",
    "display(Math(r'R = {}\\ m^2/s^2 .K'.format(round(R,2))))"
   ]
  },
  {
   "cell_type": "markdown",
   "metadata": {},
   "source": [
    "De la ecuacion de los gases, la masa $m$ es:\n",
    "$$\n",
    "m=\\frac{PV}{RT}\n",
    "$$\n",
    "\n",
    "Reemplazando en la ecuacion:"
   ]
  },
  {
   "cell_type": "code",
   "execution_count": 70,
   "metadata": {},
   "outputs": [
    {
     "data": {
      "text/latex": [
       "$$m = 125.38\\ kg$$"
      ],
      "text/plain": [
       "<IPython.core.display.Math object>"
      ]
     },
     "metadata": {},
     "output_type": "display_data"
    }
   ],
   "source": [
    "m=P*V/(R*T)\n",
    "display(Math(r'm = {}\\ kg'.format(round(m,2))))"
   ]
  },
  {
   "cell_type": "markdown",
   "metadata": {},
   "source": [
    "El numero de moles $N$ es:\n",
    "$$\n",
    "N = \\frac{m}{M}\n",
    "$$\n",
    "donde $M$ es el peso molecular obtenido de la Tabla A-1"
   ]
  },
  {
   "cell_type": "code",
   "execution_count": 71,
   "metadata": {},
   "outputs": [
    {
     "data": {
      "text/latex": [
       "$$M = 4.003\\ kg/kmol$$"
      ],
      "text/plain": [
       "<IPython.core.display.Math object>"
      ]
     },
     "metadata": {},
     "output_type": "display_data"
    }
   ],
   "source": [
    "M=4.003\n",
    "display(Math(r'M = {}\\ kg/kmol'.format(round(M,4))))"
   ]
  },
  {
   "cell_type": "code",
   "execution_count": 72,
   "metadata": {},
   "outputs": [
    {
     "data": {
      "text/latex": [
       "$$N = 31.32\\ kmol$$"
      ],
      "text/plain": [
       "<IPython.core.display.Math object>"
      ]
     },
     "metadata": {},
     "output_type": "display_data"
    }
   ],
   "source": [
    "N=m/M\n",
    "display(Math(r'N = {}\\ kmol'.format(round(N,2))))"
   ]
  },
  {
   "cell_type": "markdown",
   "metadata": {},
   "source": [
    "<!-- Ex 2-16 (Cengel) -->\n",
    "# Ejemplo 2 \n",
    "Un tanque cilindrico con metanol tiene una masa de 40 $kg$ y un volumen de 51 $L$. Determinar le peso del metanol, la densidad y la gravedad especifica considerando que la aceleracion de la gravedad es 9.81 $m/s^2$. Ademas, estimar la fuerza requerida para acelerar linealmente el tanque a 0.25 $m/s^2$.\n",
    "\n",
    "## Solucion\n",
    "De acuerdo con el enunciado del problema, tenemos:"
   ]
  },
  {
   "cell_type": "code",
   "execution_count": 73,
   "metadata": {},
   "outputs": [
    {
     "data": {
      "text/latex": [
       "$$m = 40.0\\ kg \\\\ V = 51.0\\ L \\\\ g = 9.81\\ m/s^2 \\\\ a = 0.25\\ m/s^2$$"
      ],
      "text/plain": [
       "<IPython.core.display.Math object>"
      ]
     },
     "metadata": {},
     "output_type": "display_data"
    }
   ],
   "source": [
    "m=40.; V=51.; g=9.81; a=0.25\n",
    "display(Math(r'm = {}\\ kg \\\\ V = {}\\ L \\\\ g = {}\\ m/s^2 \\\\ a = {}\\ m/s^2'.format(round(m,2),round(V,2),round(g,2),round(a,2))))"
   ]
  },
  {
   "cell_type": "markdown",
   "metadata": {},
   "source": [
    "De la segunda ley de Newton, el peso $w$ es:\n",
    "$$\n",
    "w=m.g\n",
    "$$\n",
    "\n",
    "Reemplanzando en la ecuacion:"
   ]
  },
  {
   "cell_type": "code",
   "execution_count": 74,
   "metadata": {},
   "outputs": [
    {
     "data": {
      "text/latex": [
       "$$w = 392.4\\ N$$"
      ],
      "text/plain": [
       "<IPython.core.display.Math object>"
      ]
     },
     "metadata": {},
     "output_type": "display_data"
    }
   ],
   "source": [
    "w=m*g\n",
    "display(Math(r'w = {}\\ N'.format(round(w,2))))"
   ]
  },
  {
   "cell_type": "markdown",
   "metadata": {},
   "source": [
    "Si, $1\\ m^3 = 1000\\ L$, para transformar $V$ en $m^3$ hay que multiplica su valor por $\\frac{1\\ m^3}{1000\\ L}$"
   ]
  },
  {
   "cell_type": "code",
   "execution_count": 75,
   "metadata": {},
   "outputs": [
    {
     "data": {
      "text/latex": [
       "$$V = 0.051\\ m^3$$"
      ],
      "text/plain": [
       "<IPython.core.display.Math object>"
      ]
     },
     "metadata": {},
     "output_type": "display_data"
    }
   ],
   "source": [
    "V=V*(1/1000.)\n",
    "display(Math(r'V = {}\\ m^3'.format(round(V,3))))"
   ]
  },
  {
   "cell_type": "markdown",
   "metadata": {},
   "source": [
    "La densidad $\\rho$ es:\n",
    "$$\n",
    "\\rho=\\frac{m}{V}\n",
    "$$\n",
    "Reemplazando en la ecuacion:"
   ]
  },
  {
   "cell_type": "code",
   "execution_count": 76,
   "metadata": {},
   "outputs": [
    {
     "data": {
      "text/latex": [
       "$$\\rho = 784.31\\ kg/m^3$$"
      ],
      "text/plain": [
       "<IPython.core.display.Math object>"
      ]
     },
     "metadata": {},
     "output_type": "display_data"
    }
   ],
   "source": [
    "rho=m/V\n",
    "display(Math(r'\\rho = {}\\ kg/m^3'.format(round(rho,2))))"
   ]
  },
  {
   "cell_type": "markdown",
   "metadata": {},
   "source": [
    "El gravedad especifica $SG$ es\n",
    "$$\n",
    "SG=\\frac{\\rho}{\\rho_{H_2 0}}\n",
    "$$\n",
    "where la densidad del agua es: "
   ]
  },
  {
   "cell_type": "code",
   "execution_count": 77,
   "metadata": {},
   "outputs": [
    {
     "data": {
      "text/latex": [
       "$$\\rho_a  = 1000.0\\ kg/m^3$$"
      ],
      "text/plain": [
       "<IPython.core.display.Math object>"
      ]
     },
     "metadata": {},
     "output_type": "display_data"
    }
   ],
   "source": [
    "rhoa=1000.\n",
    "display(Math(r'\\rho_a  = {}\\ kg/m^3'.format(round(rhoa,2))))"
   ]
  },
  {
   "cell_type": "markdown",
   "metadata": {},
   "source": [
    "Reemplazando en la ecuacion para $SG$:"
   ]
  },
  {
   "cell_type": "code",
   "execution_count": 78,
   "metadata": {},
   "outputs": [
    {
     "data": {
      "text/latex": [
       "$$SG = 0.784$$"
      ],
      "text/plain": [
       "<IPython.core.display.Math object>"
      ]
     },
     "metadata": {},
     "output_type": "display_data"
    }
   ],
   "source": [
    "SG=rho/rhoa\n",
    "display(Math(r'SG = {}'.format(round(SG,3))))"
   ]
  },
  {
   "cell_type": "markdown",
   "metadata": {},
   "source": [
    "De la segunda ley de Newton, la fuerza $F$ es:\n",
    "$$\n",
    "F=m.a\n",
    "$$\n",
    "\n",
    "Reemplanzando en la ecuacion:"
   ]
  },
  {
   "cell_type": "code",
   "execution_count": 79,
   "metadata": {},
   "outputs": [
    {
     "data": {
      "text/latex": [
       "$$F  = 10.0\\ N$$"
      ],
      "text/plain": [
       "<IPython.core.display.Math object>"
      ]
     },
     "metadata": {},
     "output_type": "display_data"
    }
   ],
   "source": [
    "F=m*a\n",
    "display(Math(r'F  = {}\\ N'.format(round(F,2))))"
   ]
  },
  {
   "cell_type": "markdown",
   "metadata": {},
   "source": [
    "<!-- Ex 2-18E (Cengel) -->\n",
    "# Ejemplo 3\n",
    "Un tanque rigido contiene 40 $lbm$ de aire a 20 $psia$ y 70 $^oF$. Mas aire es adicionado al tanque hasta alcanzar una presion de 35 $psia$ y una temperature de 90 $^oF$. Determinar la cantidad de aire adicionado al tanque.\n",
    "\n",
    "## Solucion\n",
    "De acuerdo con el enunciado del problema, tenemos:"
   ]
  },
  {
   "cell_type": "code",
   "execution_count": 80,
   "metadata": {},
   "outputs": [
    {
     "data": {
      "text/latex": [
       "$$m_1 = 40.0\\ kg \\\\ P_1 = 20.0\\ psia \\\\ T_1 = 70.0\\ ^oF$$"
      ],
      "text/plain": [
       "<IPython.core.display.Math object>"
      ]
     },
     "metadata": {},
     "output_type": "display_data"
    },
    {
     "data": {
      "text/latex": [
       "$$P_2 = 35.0\\ psia \\\\ T_2 = 90.0\\ ^oF$$"
      ],
      "text/plain": [
       "<IPython.core.display.Math object>"
      ]
     },
     "metadata": {},
     "output_type": "display_data"
    }
   ],
   "source": [
    "m1=40; P1=20.; T1=70.\n",
    "display(Math(r'm_1 = {}\\ kg \\\\ P_1 = {}\\ psia \\\\ T_1 = {}\\ ^oF'.format(round(m1,2),round(P1,2),round(T1,2))))\n",
    "P2=35.; T2=90.\n",
    "display(Math(r'P_2 = {}\\ psia \\\\ T_2 = {}\\ ^oF'.format(round(P2,2),round(T2,2))))      "
   ]
  },
  {
   "cell_type": "markdown",
   "metadata": {},
   "source": [
    "Convirtiendo $T_1$ y $T_2$ a Rankine $R$ teniendo en cuenta que $T(R) = T(^oF)+459.67$, tenemos que:"
   ]
  },
  {
   "cell_type": "code",
   "execution_count": 81,
   "metadata": {},
   "outputs": [
    {
     "data": {
      "text/latex": [
       "$$T_1 = 529.67\\ R \\\\ T_2 = 549.67\\ R$$"
      ],
      "text/plain": [
       "<IPython.core.display.Math object>"
      ]
     },
     "metadata": {},
     "output_type": "display_data"
    }
   ],
   "source": [
    "T1=T1+459.67\n",
    "T2=T2+459.67\n",
    "display(Math(r'T_1 = {}\\ R \\\\ T_2 = {}\\ R'.format(round(T1,2),round(T2,2))))"
   ]
  },
  {
   "cell_type": "markdown",
   "metadata": {},
   "source": [
    "De la tabla A-1E, la constante $R$ para el aire es:"
   ]
  },
  {
   "cell_type": "code",
   "execution_count": 82,
   "metadata": {},
   "outputs": [
    {
     "data": {
      "text/latex": [
       "$$R = 0.37\\ psia.ft^3/lbm.R$$"
      ],
      "text/plain": [
       "<IPython.core.display.Math object>"
      ]
     },
     "metadata": {},
     "output_type": "display_data"
    }
   ],
   "source": [
    "R = 0.3704\n",
    "display(Math(r'R = {}\\ psia.ft^3/lbm.R'.format(round(R,2))))"
   ]
  },
  {
   "cell_type": "markdown",
   "metadata": {},
   "source": [
    "De la ecuacion de los gases, el volumen $V$ es:\n",
    "$$\n",
    "V=\\frac{mRT}{P}\n",
    "$$\n",
    "\n",
    "Reemplazando en la ecuacion:"
   ]
  },
  {
   "cell_type": "code",
   "execution_count": 83,
   "metadata": {},
   "outputs": [
    {
     "data": {
      "text/latex": [
       "$$V = 392.38\\ ft^3$$"
      ],
      "text/plain": [
       "<IPython.core.display.Math object>"
      ]
     },
     "metadata": {},
     "output_type": "display_data"
    }
   ],
   "source": [
    "V=m1*R*T1/P1\n",
    "display(Math(r'V = {}\\ ft^3'.format(round(V,2))))"
   ]
  },
  {
   "cell_type": "markdown",
   "metadata": {},
   "source": [
    "De la ecuacion de los gases, la masa $m$ es:\n",
    "$$\n",
    "m=\\frac{PV}{RT}\n",
    "$$\n",
    "\n",
    "Reemplazando en la ecuacion para calcular $m_2$:"
   ]
  },
  {
   "cell_type": "code",
   "execution_count": 84,
   "metadata": {},
   "outputs": [
    {
     "data": {
      "text/latex": [
       "$$m_2 = 67.45\\ lbm$$"
      ],
      "text/plain": [
       "<IPython.core.display.Math object>"
      ]
     },
     "metadata": {},
     "output_type": "display_data"
    }
   ],
   "source": [
    "m2=P2*V/(R*T2)\n",
    "display(Math(r'm_2 = {}\\ lbm'.format(round(m2,2))))"
   ]
  },
  {
   "cell_type": "markdown",
   "metadata": {},
   "source": [
    "La masa adicional $\\delta m = m_2 - m_1$ es:"
   ]
  },
  {
   "cell_type": "code",
   "execution_count": 85,
   "metadata": {},
   "outputs": [
    {
     "data": {
      "text/latex": [
       "$$\\delta m = 27.45\\ lbm$$"
      ],
      "text/plain": [
       "<IPython.core.display.Math object>"
      ]
     },
     "metadata": {},
     "output_type": "display_data"
    }
   ],
   "source": [
    "dm=m2-m1\n",
    "display(Math(r'\\delta m = {}\\ lbm'.format(round(dm,2))))"
   ]
  },
  {
   "cell_type": "code",
   "execution_count": null,
   "metadata": {},
   "outputs": [],
   "source": []
  }
 ],
 "metadata": {
  "kernelspec": {
   "display_name": "Python 2",
   "language": "python",
   "name": "python2"
  },
  "language_info": {
   "codemirror_mode": {
    "name": "ipython",
    "version": 2
   },
   "file_extension": ".py",
   "mimetype": "text/x-python",
   "name": "python",
   "nbconvert_exporter": "python",
   "pygments_lexer": "ipython2",
   "version": "2.7.18"
  }
 },
 "nbformat": 4,
 "nbformat_minor": 2
}
