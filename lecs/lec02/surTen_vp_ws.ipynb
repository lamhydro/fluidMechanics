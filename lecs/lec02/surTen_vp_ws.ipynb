{
 "cells": [
  {
   "cell_type": "code",
   "execution_count": 45,
   "metadata": {},
   "outputs": [],
   "source": [
    "import sys, os\n",
    "import numpy as np\n",
    "from IPython.display import display, Math, Markdown"
   ]
  },
  {
   "cell_type": "markdown",
   "metadata": {},
   "source": [
    "<!-- P1.64 (White) -->\n",
    "# Ejemplo 1\n",
    "Determine el el maximo diametro, en milimetros, de una esfera solido de alumino de $\\rho_o = 2700\\ kg/m^3 $, que flota sobre agua limpia al aire libre con $T=20^oC$.\n",
    "## Solucion\n",
    "De acuerdo con el enunciado del problema, tenemos:"
   ]
  },
  {
   "cell_type": "code",
   "execution_count": 46,
   "metadata": {},
   "outputs": [
    {
     "data": {
      "text/latex": [
       "$$\\rho_o = 2700.0\\ kg/m^3 \\\\ T = 20.0\\ ^oC \\\\ g = 9.81\\ m/s^2$$"
      ],
      "text/plain": [
       "<IPython.core.display.Math object>"
      ]
     },
     "metadata": {},
     "output_type": "display_data"
    }
   ],
   "source": [
    "rho=2700.; T=20.; g=9.81\n",
    "display(Math(r'\\rho_o = {}\\ kg/m^3 \\\\ T = {}\\ ^oC \\\\ g = {}\\ m/s^2'.format(round(rho,3),round(T,3),round(g,3))))"
   ]
  },
  {
   "cell_type": "code",
   "execution_count": 47,
   "metadata": {},
   "outputs": [
    {
     "data": {
      "text/markdown": [
       "El coeficiente de tension superficial en la interface agua-aire es: $\\Upsilon = 0.073\\ N/m$"
      ],
      "text/plain": [
       "<IPython.core.display.Markdown object>"
      ]
     },
     "execution_count": 47,
     "metadata": {},
     "output_type": "execute_result"
    }
   ],
   "source": [
    "Y = 0.073\n",
    "Markdown(\"El coeficiente de tension superficial en la interface agua-aire es: $\\Upsilon = %0.3f\\ N/m$\"%(Y))"
   ]
  },
  {
   "cell_type": "markdown",
   "metadata": {},
   "source": [
    "De acuerdo con la segunda ley de Newton, el peso de la esfera es:\n",
    "$$\n",
    "F=mg\n",
    "$$\n",
    "donde $m$ es la masa $m=\\rho V$, donde $V$ es el volumen de una esfera $V=\\frac{4}{3} \\pi r^3$. Por lo tanto:\n",
    "$$\n",
    "F=\\frac{4}{3} \\pi r^3 \\rho g\n",
    "$$\n",
    "\n",
    "Del concepto de tension superficial, sabemos que la tension superficial contraresta el peso de la esfera, por tanto:\n",
    "$$\n",
    "F=\\frac{4}{3} \\pi r^3 \\rho g = 2\\pi r \\Upsilon\n",
    "$$\n",
    "Despejando para el radio $r$:\n",
    "$$\n",
    "r=\\sqrt{\\frac{3\\Upsilon}{2\\rho g}}\n",
    "$$\n",
    "Reemplazando en la ecuacion:"
   ]
  },
  {
   "cell_type": "code",
   "execution_count": 48,
   "metadata": {},
   "outputs": [
    {
     "data": {
      "text/markdown": [
       "**El diametro maximo de la esfera de aluminio es: $D = 4.1\\ mm$**"
      ],
      "text/plain": [
       "<IPython.core.display.Markdown object>"
      ]
     },
     "execution_count": 48,
     "metadata": {},
     "output_type": "execute_result"
    }
   ],
   "source": [
    "r=(3.*Y/(2.*rho*g))**0.5\n",
    "Markdown(\"**El diametro maximo de la esfera de aluminio es: $D = %0.1f\\ mm$**\"%(1000*2*r))"
   ]
  },
  {
   "cell_type": "markdown",
   "metadata": {},
   "source": [
    "<!-- P1.68 (White) -->\n",
    "# Ejemplo 2\n",
    "Hacer un analysis de la funcion $\\eta (x)$ la cual representa la interface agua-aire cerca a una pared (ver figura) asumiendo que $R^{-1} \\approx \\frac{d^2 \\eta}{dx}$. Asumir ademas que la diferencia de presion en la interface es balanceada por el peso espeficio y la altura de la interface, $\\Delta p = \\rho g \\eta$. Las condiciones de frontera indican que para $x=0$, el angulo de contacto es $\\theta$. Por otro lado $\\eta = 0$ cuando $x=\\inf$. Calcular ademas la altura maxima $h$ en la pared. \n",
    "\n",
    "![Cat](fp168.png)\n",
    "## Solucion\n",
    "Del enunciado tenemos que la interface tiene una unica curvatura $R$. De acuerdo con eso tenemos que:\n",
    "$$\n",
    "\\Delta p = \\frac{\\Upsilon}{R}\n",
    "$$\n",
    "reemplazando en ambos lados:\n",
    "$$\n",
    "\\rho g \\eta = \\Upsilon \\frac{d^2 \\eta}{dx}\n",
    "$$\n",
    "tenemos una ecuacion diferencial ordinaria (edo) de segundo grado de la forma $y'' = y$ cuya solucion, de acuerdo con el principio de superpocision, es la combinacion lineal $y=c_1 y_1 + c_2 y_2$ donde $y_i$ son soluciones de la edo. $c_i$ son constantes que son encontradas con base en las condiciones de frontera del problema. La idea es encontrar dos funciones, $y_1$ y $y_2$, tal  $y'' = y$. Para el caso mas sencillo la sedunda derivada de $y_1 = e^x$ y $y_2 = e^{-x}$ es igual a la misma funcion. Como nuestra funcion es de la forma $\\eta '' = K \\eta$, donde, por simplicacion, $K=\\frac{\\rho g}{\\Upsilon}$, las funciones $\\eta_1 = e^{x\\sqrt{K}}$ y $\\eta_1 = e^{-x\\sqrt{K}}$ cumplen con  la condicion $\\eta '' = K \\eta$, por tanto la solucion de la edo es:\n",
    "$$\n",
    "\\eta = c_1 e^{x\\sqrt{K}} + c_2 e^{-x\\sqrt{K}}\n",
    "$$\n",
    "De acuerdo con las condiciones de frontera mencionadas en el problema, cuando $x=0 \\rightarrow \\eta=h$, por lo tanto:\n",
    "$$\n",
    "h = c_1+c_2\n",
    "$$\n",
    "Por otro lado, $x=\\inf \\rightarrow y=0$ por lo que $c_2 e^{-x\\sqrt{K}}  \\approx 0$. Para que esta condicion sea cierta, $c_1 = 0$. Reemplazando en la ecuacion anterior $c_2 = h$. Reemplazando en la solucion de la edo:\n",
    "$$\n",
    "\\eta = h e^{-x\\sqrt{K}}\n",
    "$$\n",
    "\n",
    "Para el determinar el valor de $h$ (altura maxima), sabemos que cuando $x=0$, el angulo que forma la interface con la pared es $\\theta$. Por tando la pendiente de la funcion $\\eta$ en ese pundo es:\n",
    "$$\n",
    "\\frac{d\\eta}{dx} = -\\cot \\theta\n",
    "$$\n",
    "Derivando la solucion de la ecuacion:\n",
    "$$\n",
    "\\frac{d\\eta}{dx} = -h \\sqrt{K} e^{-x\\sqrt{K}}\n",
    "$$\n",
    "e igualando para $x=0$:\n",
    "$$\n",
    "-\\cot \\theta = -h \\sqrt{K} \n",
    "$$\n",
    "despejando para $h$ y reemplazando para $K$\n",
    "$$\n",
    "h = \\sqrt{\\frac{\\Upsilon}{g\\rho}} \\cot \\theta\n",
    "$$\n"
   ]
  },
  {
   "cell_type": "markdown",
   "metadata": {},
   "source": [
    "<!-- P1.70 (White) -->\n",
    "# Ejemplo 3\n",
    "Derivar una expresion para determinar el cambio de altura $h$ debido al efecto capilar de un fluido con tension superficial $\\Upsilon$ y angulo de contacto $\\theta$ para las placas paralelas separadas una distancia $W$ (ver figura). \n",
    "\n",
    "![Cat](fp170.png)\n",
    "## Solucion\n",
    "Haciendo el balance de fuerzas por unidad de longitud en direccion $y$ sobre el volumen de fluido que se eleva a una altura $h$ por efectos capilares, tenemos:\n",
    "$$\n",
    "\\frac{F}{L}=\\rho A g = 2\\Upsilon \\cos \\theta\n",
    "$$\n",
    "donde $F$ es el peso del volumen de fluido, $L$ es la profundidad de las placas paralelas (no dada por el problema), $\\rho$ es la densidad y $A$ es el area. Reemplazando para $A=hW$:\n",
    "$$\n",
    "\\rho W h g = 2\\Upsilon \\cos \\theta\n",
    "$$\n",
    "despejando, tenemos que el cambio de altura $h$ es:\n",
    "$$\n",
    "h = \\frac{2\\Upsilon \\cos \\theta}{\\rho W g}\n",
    "$$\n",
    "\n",
    "\n"
   ]
  },
  {
   "cell_type": "markdown",
   "metadata": {},
   "source": [
    "<!-- P1.74 (White) -->\n",
    "# Ejemplo 4\n",
    "Aceite, con una presion de vapor de 20 $kPa$, es transportado en una tuberia por bombas que estan igualmente espaciadas a lo largo de la tuberia, las cuales, cada una, incrementan la presion del aceite en 1.3 $MPa$. Las perdidas de presion en la tuberia son 150 $Pa/m$. Cual es el maximo espaciamiento entre bombas para evitar cavitacion: \n",
    "## Solucion\n",
    "De acuerdo con el enunciado del problema, tenemos:"
   ]
  },
  {
   "cell_type": "code",
   "execution_count": 49,
   "metadata": {},
   "outputs": [
    {
     "data": {
      "text/latex": [
       "$$p_v = 20000.0\\ Pa \\\\ \\Delta p = 1300000.0\\ Pa \\\\ \\delta p = 150.0\\ Pa $$"
      ],
      "text/plain": [
       "<IPython.core.display.Math object>"
      ]
     },
     "metadata": {},
     "output_type": "display_data"
    }
   ],
   "source": [
    "pv=20.0E3; Dp=1.3E6; dp=150 \n",
    "display(Math(r'p_v = {}\\ Pa \\\\ \\Delta p = {}\\ Pa \\\\ \\delta p = {}\\ Pa '.format(round(pa,0),round(Dp,0),round(dp,0))))"
   ]
  },
  {
   "cell_type": "markdown",
   "metadata": {},
   "source": [
    "Sabemos que cuando la presion de liquido $p$ cae por debajo de la presion de vapor debido a un fenomeno de flujo, esto es\n",
    "conocido como cavitación. Por lo tanto, si una bomba incrementa la presion en $\\Delta p$ y las perdidas a lo largo de la tuberia son $\\delta p$, la cavitacion se presenta cuando:\n",
    "$$\n",
    "\\Delta p - \\delta p l = p_v\n",
    "$$\n",
    "donde $l$ es el espaciamiento entre bombas. Despejando para $l$\n",
    "$$\n",
    "l = \\frac{\\Delta p - p_v}{\\delta p}\n",
    "$$\n",
    "Reemplanzado en la ecuacion anterior:"
   ]
  },
  {
   "cell_type": "code",
   "execution_count": 50,
   "metadata": {},
   "outputs": [
    {
     "data": {
      "text/markdown": [
       "**El espaciamiento maximo entre bombas para evitar cavitacion es: $l = 8533.33\\ m\\ =\\ 8.5\\ km$**"
      ],
      "text/plain": [
       "<IPython.core.display.Markdown object>"
      ]
     },
     "execution_count": 50,
     "metadata": {},
     "output_type": "execute_result"
    }
   ],
   "source": [
    "l=(Dp-pv)/dp\n",
    "Markdown(\"**El espaciamiento maximo entre bombas para evitar cavitacion es: $l = %0.2f\\ m\\ =\\ %0.1f\\ km$**\"%(l,l/1000.))"
   ]
  },
  {
   "cell_type": "markdown",
   "metadata": {},
   "source": [
    "<!-- P1.78 (White) -->\n",
    "# Ejemplo 5\n",
    "Isaac Newton mide la velocidad del sonido contabilizando la diferencia de tiempo entre el momento en que un canon, que al ser disparado, libera humo y el sonido que este emite. Si el canon esta ubicado sobre la cima de una montana localizada a 5.2 $mi$ de la ubicacion de Newton, calcular la temperatura del aire en $^oC$ si la diferencia de tiempo es a) 24.2 $s$ y b) 25.1 $s$.\n",
    "\n",
    "## Solucion\n",
    "De acuerdo con el enunciado del problema, tenemos:"
   ]
  },
  {
   "cell_type": "code",
   "execution_count": 51,
   "metadata": {},
   "outputs": [
    {
     "data": {
      "text/latex": [
       "$$L = 5.2\\ mi \\\\ \\delta t_1 = 24.2\\ s \\\\ \\delta t_2 = 25.1\\ s$$"
      ],
      "text/plain": [
       "<IPython.core.display.Math object>"
      ]
     },
     "metadata": {},
     "output_type": "display_data"
    }
   ],
   "source": [
    "L=5.2; dt1=24.2; dt2=25.1 \n",
    "display(Math(r'L = {}\\ mi \\\\ \\delta t_1 = {}\\ s \\\\ \\delta t_2 = {}\\ s'.format(round(L,1),round(dt1,1),round(dt2,1))))"
   ]
  },
  {
   "cell_type": "code",
   "execution_count": 52,
   "metadata": {},
   "outputs": [
    {
     "data": {
      "text/markdown": [
       "Teniendo en cuenta que $1\\ mi = 1609.34\\ m$"
      ],
      "text/plain": [
       "<IPython.core.display.Markdown object>"
      ]
     },
     "execution_count": 52,
     "metadata": {},
     "output_type": "execute_result"
    }
   ],
   "source": [
    "cmtom=1609.34\n",
    "Markdown(\"Teniendo en cuenta que $1\\ mi = %0.2f\\ m$\"%(cmtom))"
   ]
  },
  {
   "cell_type": "code",
   "execution_count": 53,
   "metadata": {},
   "outputs": [
    {
     "data": {
      "text/markdown": [
       "Convirtiendo L tenemos: $L = 8368.57\\ m$"
      ],
      "text/plain": [
       "<IPython.core.display.Markdown object>"
      ]
     },
     "execution_count": 53,
     "metadata": {},
     "output_type": "execute_result"
    }
   ],
   "source": [
    "L*=cmtom\n",
    "Markdown(\"Convirtiendo L tenemos: $L = %0.2f\\ m$\"%(L))"
   ]
  },
  {
   "cell_type": "markdown",
   "metadata": {},
   "source": [
    "Si la velocidad de la luz es instantanea, podemos calcular la velocidad del sonido como la relacion entre el transcurrido despues de disparar el canon $\\delta t_i$ y la distancia $L$. Por tanto:"
   ]
  },
  {
   "cell_type": "code",
   "execution_count": 54,
   "metadata": {},
   "outputs": [
    {
     "data": {
      "text/markdown": [
       "La velocidad del sonido para $\\delta t_1$: $a_1 = 345.81\\ m/s$"
      ],
      "text/plain": [
       "<IPython.core.display.Markdown object>"
      ]
     },
     "execution_count": 54,
     "metadata": {},
     "output_type": "execute_result"
    }
   ],
   "source": [
    "a1=L/dt1\n",
    "Markdown(\"La velocidad del sonido para $\\delta t_1$: $a_1 = %0.2f\\ m/s$\"%(a1))"
   ]
  },
  {
   "cell_type": "code",
   "execution_count": 55,
   "metadata": {},
   "outputs": [
    {
     "data": {
      "text/markdown": [
       "La velocidad del sonido para $\\delta t_2$: $a_2 = 333.41\\ m/s$"
      ],
      "text/plain": [
       "<IPython.core.display.Markdown object>"
      ]
     },
     "execution_count": 55,
     "metadata": {},
     "output_type": "execute_result"
    }
   ],
   "source": [
    "a2=L/dt2\n",
    "Markdown(\"La velocidad del sonido para $\\delta t_2$: $a_2 = %0.2f\\ m/s$\"%(a2))"
   ]
  },
  {
   "cell_type": "markdown",
   "metadata": {},
   "source": [
    "De la definicion de velocidad del sonido:\n",
    "$$\n",
    "a = \\sqrt{kRT}\n",
    "$$\n",
    "donde $k$ es la relacion de calor espefico, $R$ es la constante de los gases y $T$ es la temperatura. Despejando para $T$:\n",
    "$$\n",
    "T=\\frac{a^2}{Rk}\n",
    "$$"
   ]
  },
  {
   "cell_type": "code",
   "execution_count": 56,
   "metadata": {},
   "outputs": [
    {
     "data": {
      "text/markdown": [
       "De la tabla A.4 para aire-agua, $k = 1.4$"
      ],
      "text/plain": [
       "<IPython.core.display.Markdown object>"
      ]
     },
     "execution_count": 56,
     "metadata": {},
     "output_type": "execute_result"
    }
   ],
   "source": [
    "k=1.40\n",
    "Markdown(\"De la tabla A.4 para aire-agua, $k = %0.1f$\"%(k))"
   ]
  },
  {
   "cell_type": "code",
   "execution_count": 57,
   "metadata": {},
   "outputs": [
    {
     "data": {
      "text/markdown": [
       "De la tabla A-1, $R = 287.0\\ J/(kg.K)$"
      ],
      "text/plain": [
       "<IPython.core.display.Markdown object>"
      ]
     },
     "execution_count": 57,
     "metadata": {},
     "output_type": "execute_result"
    }
   ],
   "source": [
    "R=287.0\n",
    "Markdown(\"De la tabla A-1, $R = %0.1f\\ J/(kg.K)$\"%(R))"
   ]
  },
  {
   "cell_type": "markdown",
   "metadata": {},
   "source": [
    "Reemplazando en la ecuacion anterior para calcular la temperature absoluta $T$."
   ]
  },
  {
   "cell_type": "code",
   "execution_count": 65,
   "metadata": {},
   "outputs": [
    {
     "data": {
      "text/markdown": [
       "La temperatura absoluta para $a_1$, $T_1 = 297.6\\ K$"
      ],
      "text/plain": [
       "<IPython.core.display.Markdown object>"
      ]
     },
     "execution_count": 65,
     "metadata": {},
     "output_type": "execute_result"
    }
   ],
   "source": [
    "T1=(a1**2)/(R*k)\n",
    "Markdown(\"La temperatura absoluta para $a_1$, $T_1 = %0.1f\\ K$\"%(T1))"
   ]
  },
  {
   "cell_type": "code",
   "execution_count": 66,
   "metadata": {},
   "outputs": [
    {
     "data": {
      "text/markdown": [
       "La temperatura absoluta para $a_2$, $T_2 = 276.7\\ K$"
      ],
      "text/plain": [
       "<IPython.core.display.Markdown object>"
      ]
     },
     "execution_count": 66,
     "metadata": {},
     "output_type": "execute_result"
    }
   ],
   "source": [
    "T2=(a2**2)/(R*k)\n",
    "Markdown(\"La temperatura absoluta para $a_2$, $T_2 = %0.1f\\ K$\"%(T2))"
   ]
  },
  {
   "cell_type": "code",
   "execution_count": 67,
   "metadata": {},
   "outputs": [
    {
     "data": {
      "text/markdown": [
       "**La temperatura relativa para $a_1$, $T_1 = 24.5\\ K$**"
      ],
      "text/plain": [
       "<IPython.core.display.Markdown object>"
      ]
     },
     "execution_count": 67,
     "metadata": {},
     "output_type": "execute_result"
    }
   ],
   "source": [
    "T1-=273.15\n",
    "Markdown(\"**La temperatura relativa para $a_1$, $T_1 = %0.1f\\ K$**\"%(T1))"
   ]
  },
  {
   "cell_type": "code",
   "execution_count": 68,
   "metadata": {},
   "outputs": [
    {
     "data": {
      "text/markdown": [
       "**La temperatura relativa para $a_2$, $T_2 = 3.5\\ K$**"
      ],
      "text/plain": [
       "<IPython.core.display.Markdown object>"
      ]
     },
     "execution_count": 68,
     "metadata": {},
     "output_type": "execute_result"
    }
   ],
   "source": [
    "T2-=273.15\n",
    "Markdown(\"**La temperatura relativa para $a_2$, $T_2 = %0.1f\\ K$**\"%(T2))"
   ]
  },
  {
   "cell_type": "code",
   "execution_count": null,
   "metadata": {},
   "outputs": [],
   "source": []
  }
 ],
 "metadata": {
  "kernelspec": {
   "display_name": "Python 2",
   "language": "python",
   "name": "python2"
  },
  "language_info": {
   "codemirror_mode": {
    "name": "ipython",
    "version": 2
   },
   "file_extension": ".py",
   "mimetype": "text/x-python",
   "name": "python",
   "nbconvert_exporter": "python",
   "pygments_lexer": "ipython2",
   "version": "2.7.18"
  }
 },
 "nbformat": 4,
 "nbformat_minor": 2
}
